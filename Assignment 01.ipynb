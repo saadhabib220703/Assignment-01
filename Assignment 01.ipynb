{
 "cells": [
  {
   "cell_type": "code",
   "execution_count": 41,
   "id": "c75938a3-e03c-40dd-9044-2d1f80fa108f",
   "metadata": {},
   "outputs": [],
   "source": [
    "salaries = ['20k', '40k', '50k', '60k', '35k', '89k','40k']"
   ]
  },
  {
   "cell_type": "code",
   "execution_count": 42,
   "id": "af24762b-8ca1-48eb-8e04-e816d75f9692",
   "metadata": {},
   "outputs": [
    {
     "data": {
      "text/plain": [
       "7"
      ]
     },
     "execution_count": 42,
     "metadata": {},
     "output_type": "execute_result"
    }
   ],
   "source": [
    "len(salaries)"
   ]
  },
  {
   "cell_type": "code",
   "execution_count": 43,
   "id": "69bec966-7c46-4eae-9e33-bbd7f65a3cca",
   "metadata": {},
   "outputs": [
    {
     "data": {
      "text/plain": [
       "'50k'"
      ]
     },
     "execution_count": 43,
     "metadata": {},
     "output_type": "execute_result"
    }
   ],
   "source": [
    "salaries[2]"
   ]
  },
  {
   "cell_type": "code",
   "execution_count": 44,
   "id": "5730b7b4-06f5-44f5-b053-21ae420cde99",
   "metadata": {},
   "outputs": [
    {
     "data": {
      "text/plain": [
       "'40k'"
      ]
     },
     "execution_count": 44,
     "metadata": {},
     "output_type": "execute_result"
    }
   ],
   "source": [
    "salaries[-1]"
   ]
  },
  {
   "cell_type": "code",
   "execution_count": 45,
   "id": "0ebf2ff7-c367-4ee6-93f4-288d7342b6f2",
   "metadata": {},
   "outputs": [
    {
     "data": {
      "text/plain": [
       "['50k', '60k', '35k']"
      ]
     },
     "execution_count": 45,
     "metadata": {},
     "output_type": "execute_result"
    }
   ],
   "source": [
    "salaries[2:5]"
   ]
  },
  {
   "cell_type": "code",
   "execution_count": 46,
   "id": "c694a41a-1f5e-4b9c-ba0e-0e307f17fc0a",
   "metadata": {},
   "outputs": [],
   "source": [
    "salaries.append('100k')"
   ]
  },
  {
   "cell_type": "code",
   "execution_count": 47,
   "id": "c9c69e3c-ada6-4aa6-8522-a2c4e609ce62",
   "metadata": {},
   "outputs": [
    {
     "data": {
      "text/plain": [
       "['20k', '40k', '50k', '60k', '35k', '89k', '40k', '100k']"
      ]
     },
     "execution_count": 47,
     "metadata": {},
     "output_type": "execute_result"
    }
   ],
   "source": [
    "salaries"
   ]
  },
  {
   "cell_type": "code",
   "execution_count": 48,
   "id": "660ed84d-a773-41a5-bd27-38da50b8b51e",
   "metadata": {},
   "outputs": [],
   "source": [
    "salaries = ['20k','40k','50k','60k','35k','89k','40k','100k']\n",
    "salaries = salaries + ['120k']"
   ]
  },
  {
   "cell_type": "code",
   "execution_count": 49,
   "id": "aab06da3-0697-49a8-a150-2b44f8a9e9f6",
   "metadata": {},
   "outputs": [
    {
     "data": {
      "text/plain": [
       "['20k', '40k', '50k', '60k', '35k', '89k', '40k', '100k', '120k']"
      ]
     },
     "execution_count": 49,
     "metadata": {},
     "output_type": "execute_result"
    }
   ],
   "source": [
    "salaries"
   ]
  },
  {
   "cell_type": "code",
   "execution_count": 50,
   "id": "f2c3d686-f55b-4528-b091-1d93cd9fcd07",
   "metadata": {},
   "outputs": [
    {
     "data": {
      "text/plain": [
       "2"
      ]
     },
     "execution_count": 50,
     "metadata": {},
     "output_type": "execute_result"
    }
   ],
   "source": [
    "salaries.count('40k')"
   ]
  },
  {
   "cell_type": "code",
   "execution_count": 51,
   "id": "07de9177-86a9-44ab-9568-ccc7c693b26d",
   "metadata": {},
   "outputs": [
    {
     "data": {
      "text/plain": [
       "['20k', '40k', '20k', '50k', '60k', '35k', '89k', '40k', '100k', '120k']"
      ]
     },
     "execution_count": 51,
     "metadata": {},
     "output_type": "execute_result"
    }
   ],
   "source": [
    "salaries.insert(2,'20k')\n",
    "salaries"
   ]
  },
  {
   "cell_type": "code",
   "execution_count": 36,
   "id": "898d2a6e-a3f0-4d81-9a29-b6358a00b2af",
   "metadata": {},
   "outputs": [
    {
     "data": {
      "text/plain": [
       "['120k', '100k', '40k', '89k', '35k', '60k', '50k', '20k', '40k', '20k']"
      ]
     },
     "execution_count": 36,
     "metadata": {},
     "output_type": "execute_result"
    }
   ],
   "source": [
    "salaries.reverse()\n",
    "salaries"
   ]
  },
  {
   "cell_type": "code",
   "execution_count": 38,
   "id": "3d705c88-dde4-4ddf-9eb0-8df788c8bb72",
   "metadata": {},
   "outputs": [
    {
     "data": {
      "text/plain": [
       "['100k', '120k', '20k', '20k', '35k', '40k', '40k', '50k', '60k', '89k']"
      ]
     },
     "execution_count": 38,
     "metadata": {},
     "output_type": "execute_result"
    }
   ],
   "source": [
    "salaries.sort()\n",
    "salaries"
   ]
  },
  {
   "cell_type": "code",
   "execution_count": 52,
   "id": "54238744-63e3-4f87-a2b3-8b617573edb0",
   "metadata": {},
   "outputs": [
    {
     "data": {
      "text/plain": [
       "['20k', '40k', '55k', '50k', '60k', '35k', '89k', '40k', '100k', '120k']"
      ]
     },
     "execution_count": 52,
     "metadata": {},
     "output_type": "execute_result"
    }
   ],
   "source": [
    "salaries[2] = '55k'\n",
    "salaries"
   ]
  },
  {
   "cell_type": "code",
   "execution_count": 53,
   "id": "574f1816-e053-4ef0-a9f2-52a974a0aff0",
   "metadata": {},
   "outputs": [
    {
     "name": "stdout",
     "output_type": "stream",
     "text": [
      "['120k', '100k', '40k', '89k', '35k', '60k', '50k', '55k', '40k', '20k']\n"
     ]
    }
   ],
   "source": [
    "reversed_salaries = salaries[::-1]\n",
    "print(reversed_salaries)"
   ]
  },
  {
   "cell_type": "code",
   "execution_count": null,
   "id": "affa948b-2d11-4d85-8d67-65621ef1f6f8",
   "metadata": {},
   "outputs": [],
   "source": []
  },
  {
   "cell_type": "code",
   "execution_count": null,
   "id": "b7698a97-3e5a-4149-9ce2-b4a611457af4",
   "metadata": {},
   "outputs": [],
   "source": []
  }
 ],
 "metadata": {
  "kernelspec": {
   "display_name": "Python 3 (ipykernel)",
   "language": "python",
   "name": "python3"
  },
  "language_info": {
   "codemirror_mode": {
    "name": "ipython",
    "version": 3
   },
   "file_extension": ".py",
   "mimetype": "text/x-python",
   "name": "python",
   "nbconvert_exporter": "python",
   "pygments_lexer": "ipython3",
   "version": "3.12.7"
  }
 },
 "nbformat": 4,
 "nbformat_minor": 5
}
